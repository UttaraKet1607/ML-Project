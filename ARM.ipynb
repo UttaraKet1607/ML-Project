{
 "cells": [
  {
   "cell_type": "code",
   "execution_count": 2,
   "metadata": {},
   "outputs": [],
   "source": [
    "import pandas as pd\n",
    "\n",
    "# Load the dataset\n",
    "file_path = \"cleaned_weather_data.csv\"\n",
    "df = pd.read_csv(file_path)\n",
    "\n",
    "# Selecting required columns\n",
    "columns_needed = [\n",
    "    \"City\", \"Rain Volume (last 3h) cleaned\", \"Snow Volume (last 3h) cleaned\",\n",
    "    \"Month-Day\", \"Time\", \"Temperature\", \"Humidity\", \"Pressure\", \"Wind Speed\", \"Visibility\"\n",
    "]\n",
    "df = df[columns_needed]"
   ]
  },
  {
   "cell_type": "code",
   "execution_count": 3,
   "metadata": {},
   "outputs": [],
   "source": [
    "# Define binning functions for numeric columns\n",
    "def bin_temperature(temp):\n",
    "    if temp < 0:\n",
    "        return \"Temp_Cold\"\n",
    "    elif 0 <= temp <= 15:\n",
    "        return \"Temp_Cool\"\n",
    "    elif 15 < temp <= 30:\n",
    "        return \"Temp_Warm\"\n",
    "    else:\n",
    "        return \"Temp_Hot\"\n",
    "\n",
    "def bin_humidity(humidity):\n",
    "    if humidity < 30:\n",
    "        return \"Humidity_Low\"\n",
    "    elif 30 <= humidity <= 70:\n",
    "        return \"Humidity_Moderate\"\n",
    "    else:\n",
    "        return \"Humidity_High\"\n",
    "\n",
    "def bin_pressure(pressure):\n",
    "    if pressure < 1000:\n",
    "        return \"Pressure_Low\"\n",
    "    elif 1000 <= pressure <= 1020:\n",
    "        return \"Pressure_Normal\"\n",
    "    else:\n",
    "        return \"Pressure_High\"\n",
    "\n",
    "def bin_wind_speed(speed):\n",
    "    if speed < 5:\n",
    "        return \"Wind_Calm\"\n",
    "    elif 5 <= speed <= 15:\n",
    "        return \"Wind_Moderate\"\n",
    "    else:\n",
    "        return \"Wind_Strong\"\n",
    "\n",
    "def bin_visibility(vis):\n",
    "    if vis < 2000:\n",
    "        return \"Visibility_Low\"\n",
    "    elif 2000 <= vis <= 10000:\n",
    "        return \"Visibility_Moderate\"\n",
    "    else:\n",
    "        return \"Visibility_High\""
   ]
  },
  {
   "cell_type": "code",
   "execution_count": 4,
   "metadata": {},
   "outputs": [],
   "source": [
    "# Apply binning functions\n",
    "df[\"Temperature_Bin\"] = df[\"Temperature\"].apply(bin_temperature)\n",
    "df[\"Humidity_Bin\"] = df[\"Humidity\"].apply(bin_humidity)\n",
    "df[\"Pressure_Bin\"] = df[\"Pressure\"].apply(bin_pressure)\n",
    "df[\"WindSpeed_Bin\"] = df[\"Wind Speed\"].apply(bin_wind_speed)\n",
    "df[\"Visibility_Bin\"] = df[\"Visibility\"].apply(bin_visibility)\n",
    "\n",
    "# Drop original numeric columns\n",
    "df = df.drop([\"Temperature\", \"Humidity\", \"Pressure\", \"Wind Speed\", \"Visibility\"], axis=1)"
   ]
  },
  {
   "cell_type": "code",
   "execution_count": 5,
   "metadata": {},
   "outputs": [
    {
     "name": "stdout",
     "output_type": "stream",
     "text": [
      "Transaction data saved at: ARM/transactions.csv\n"
     ]
    }
   ],
   "source": [
    "# Convert into transaction format (list of lists)\n",
    "transactions = df.apply(lambda x: list(x), axis=1).tolist()\n",
    "\n",
    "# Save transactions to a CSV file without headers for use in R\n",
    "transaction_file = \"ARM/transactions.csv\"\n",
    "df.to_csv(transaction_file, index=False, header=False)\n",
    "print(f\"Transaction data saved at: {transaction_file}\")"
   ]
  }
 ],
 "metadata": {
  "kernelspec": {
   "display_name": "base",
   "language": "python",
   "name": "python3"
  },
  "language_info": {
   "codemirror_mode": {
    "name": "ipython",
    "version": 3
   },
   "file_extension": ".py",
   "mimetype": "text/x-python",
   "name": "python",
   "nbconvert_exporter": "python",
   "pygments_lexer": "ipython3",
   "version": "3.11.4"
  }
 },
 "nbformat": 4,
 "nbformat_minor": 2
}
